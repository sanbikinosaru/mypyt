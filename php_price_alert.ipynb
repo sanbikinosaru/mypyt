{
  "nbformat": 4,
  "nbformat_minor": 0,
  "metadata": {
    "colab": {
      "name": "php price alert.ipynb",
      "provenance": [],
      "collapsed_sections": [],
      "authorship_tag": "ABX9TyNe/cQ+LvrV7I+Y7y/QjF5W"
    },
    "kernelspec": {
      "name": "python3",
      "display_name": "Python 3"
    },
    "language_info": {
      "name": "python"
    }
  },
  "cells": [
    {
      "cell_type": "code",
      "metadata": {
        "id": "CIeEJjuiVS6Z"
      },
      "source": [
        "import requests, time, smtplib\n",
        "from bs4 import BeautifulSoup\n",
        "\n",
        "cprice = 0\n"
      ],
      "execution_count": 95,
      "outputs": []
    },
    {
      "cell_type": "code",
      "metadata": {
        "id": "OqTkG3m1W_xZ"
      },
      "source": [
        "def get_php_price():\n",
        "  global cprice\n",
        "  myurl = 'http://www.google.com/search?q=1+aed+to+php'\n",
        "  myhtml = requests.get(myurl)\n",
        "  mysoup = BeautifulSoup(myhtml.text, 'html.parser')\n",
        "  mytext = mysoup.find('div', attrs={'class':'BNeawe iBp4i AP7Wnd'}).text\n",
        "  mytext = mytext.split(' ')\n",
        "  cprice = float(mytext[0])\n",
        "  return cprice"
      ],
      "execution_count": 96,
      "outputs": []
    },
    {
      "cell_type": "code",
      "metadata": {
        "id": "MuqsABCJZd_x"
      },
      "source": [
        "def send_email(subject, msg):\n",
        "    #get_php_price()\n",
        "    fromaddr = 'sys.gaara@gmail.com'\n",
        "    toaddrs = 'sys.avm@gmail.com'\n",
        "    message = 'Subject: %s\\n\\n Php price is now %s AED' %(subject, msg)\n",
        "\n",
        "    # Credentials (if needed)\n",
        "    username = 'sys.gaara@gmail.com'\n",
        "    password = 'nrtklvkmpzysbfkg'\n",
        "    \n",
        "    # The actual mail sent\n",
        "    server = smtplib.SMTP('smtp.gmail.com:587')\n",
        "    server.starttls()\n",
        "    \n",
        "    try:\n",
        "      server.login(username,password)\n",
        "      server.sendmail(fromaddr, toaddrs, message)\n",
        "      server.quit()\n",
        "    \n",
        "    except smtplib.SMTPServerDisconnected:\n",
        "      print('Failed to connect to the server. Wrong user/password?')\n",
        "    \n",
        "    except smtplib.SMTPException as e:\n",
        "      print('SMTP error occurred: ' + str(e))\n",
        "    \n",
        "    else:\n",
        "      print('Email Sent')\n",
        "      \n"
      ],
      "execution_count": 107,
      "outputs": []
    },
    {
      "cell_type": "code",
      "metadata": {
        "colab": {
          "base_uri": "https://localhost:8080/",
          "height": 300
        },
        "id": "vhXcuJD7e4vK",
        "outputId": "0c8e608e-04b9-458c-bd63-f34aff6c9a02"
      },
      "source": [
        "while True:\n",
        "  get_php_price()\n",
        "  print(cprice)\n",
        "  if\n",
        "  time.sleep(10)"
      ],
      "execution_count": 114,
      "outputs": [
        {
          "output_type": "stream",
          "text": [
            "13.19\n",
            "13.19\n",
            "13.19\n",
            "13.19\n",
            "13.19\n",
            "13.19\n"
          ],
          "name": "stdout"
        },
        {
          "output_type": "error",
          "ename": "KeyboardInterrupt",
          "evalue": "ignored",
          "traceback": [
            "\u001b[0;31m---------------------------------------------------------------------------\u001b[0m",
            "\u001b[0;31mKeyboardInterrupt\u001b[0m                         Traceback (most recent call last)",
            "\u001b[0;32m<ipython-input-114-8e4ed0e6ecb5>\u001b[0m in \u001b[0;36m<module>\u001b[0;34m()\u001b[0m\n\u001b[1;32m      2\u001b[0m   \u001b[0mget_php_price\u001b[0m\u001b[0;34m(\u001b[0m\u001b[0;34m)\u001b[0m\u001b[0;34m\u001b[0m\u001b[0;34m\u001b[0m\u001b[0m\n\u001b[1;32m      3\u001b[0m   \u001b[0mprint\u001b[0m\u001b[0;34m(\u001b[0m\u001b[0mcprice\u001b[0m\u001b[0;34m)\u001b[0m\u001b[0;34m\u001b[0m\u001b[0;34m\u001b[0m\u001b[0m\n\u001b[0;32m----> 4\u001b[0;31m   \u001b[0mtime\u001b[0m\u001b[0;34m.\u001b[0m\u001b[0msleep\u001b[0m\u001b[0;34m(\u001b[0m\u001b[0;36m10\u001b[0m\u001b[0;34m)\u001b[0m\u001b[0;34m\u001b[0m\u001b[0;34m\u001b[0m\u001b[0m\n\u001b[0m",
            "\u001b[0;31mKeyboardInterrupt\u001b[0m: "
          ]
        }
      ]
    },
    {
      "cell_type": "code",
      "metadata": {
        "id": "lxk4DaEGtD6t"
      },
      "source": [
        ""
      ],
      "execution_count": null,
      "outputs": []
    }
  ]
}