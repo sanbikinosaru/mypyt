{
  "nbformat": 4,
  "nbformat_minor": 0,
  "metadata": {
    "colab": {
      "name": "php price alert.ipynb",
      "provenance": [],
      "collapsed_sections": [],
      "authorship_tag": "ABX9TyNm4FMf1bah34NqAHTy6kUu"
    },
    "kernelspec": {
      "name": "python3",
      "display_name": "Python 3"
    },
    "language_info": {
      "name": "python"
    }
  },
  "cells": [
    {
      "cell_type": "code",
      "metadata": {
        "id": "CIeEJjuiVS6Z"
      },
      "source": [
        "import requests, time\n",
        "from bs4 import BeautifulSoup\n",
        "\n",
        "cprice = 0\n"
      ],
      "execution_count": 1,
      "outputs": []
    },
    {
      "cell_type": "code",
      "metadata": {
        "id": "OqTkG3m1W_xZ"
      },
      "source": [
        "def get_php_price():\n",
        "  global cprice\n",
        "  myurl = 'http://www.google.com/search?q=1+aed+to+php'\n",
        "  myhtml = requests.get(myurl)\n",
        "  mysoup = BeautifulSoup(myhtml.text, 'html.parser')\n",
        "  mytext = mysoup.find('div', attrs={'class':'BNeawe iBp4i AP7Wnd'}).text\n",
        "  mytext = mytext.split(' ')\n",
        "  cprice = float(mytext[0])\n",
        "  return cprice"
      ],
      "execution_count": 22,
      "outputs": []
    },
    {
      "cell_type": "code",
      "metadata": {
        "colab": {
          "base_uri": "https://localhost:8080/"
        },
        "id": "MuqsABCJZd_x",
        "outputId": "2742d0cc-5c5f-411b-a2eb-399c1d57c96c"
      },
      "source": [
        "get_php_price()"
      ],
      "execution_count": 21,
      "outputs": [
        {
          "output_type": "execute_result",
          "data": {
            "text/plain": [
              "13.19"
            ]
          },
          "metadata": {
            "tags": []
          },
          "execution_count": 21
        }
      ]
    }
  ]
}