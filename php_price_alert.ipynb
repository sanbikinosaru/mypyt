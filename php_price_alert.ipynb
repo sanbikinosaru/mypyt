{
  "nbformat": 4,
  "nbformat_minor": 0,
  "metadata": {
    "colab": {
      "name": "php price alert.ipynb",
      "provenance": [],
      "collapsed_sections": [],
      "authorship_tag": "ABX9TyM4/krn8ufTgzD/yK2hOI1n"
    },
    "kernelspec": {
      "name": "python3",
      "display_name": "Python 3"
    },
    "language_info": {
      "name": "python"
    }
  },
  "cells": [
    {
      "cell_type": "code",
      "metadata": {
        "id": "CIeEJjuiVS6Z"
      },
      "source": [
        "import requests, time, smtplib\n",
        "from bs4 import BeautifulSoup\n",
        "\n",
        "cprice = 0\n",
        "pprice = 0\n",
        "price = 0"
      ],
      "execution_count": 120,
      "outputs": []
    },
    {
      "cell_type": "code",
      "metadata": {
        "id": "OqTkG3m1W_xZ"
      },
      "source": [
        "def get_php_price():\n",
        "  global cprice, pprice, price\n",
        "  myurl = 'http://www.google.com/search?q=1+aed+to+php'\n",
        "  myhtml = requests.get(myurl)\n",
        "  mysoup = BeautifulSoup(myhtml.text, 'html.parser')\n",
        "  mytext = mysoup.find('div', attrs={'class':'BNeawe iBp4i AP7Wnd'}).text\n",
        "  mytext = mytext.split(' ')\n",
        "  cprice = float(mytext[0])\n",
        "  return cprice"
      ],
      "execution_count": 121,
      "outputs": []
    },
    {
      "cell_type": "code",
      "metadata": {
        "id": "MuqsABCJZd_x"
      },
      "source": [
        "def send_email(subject, msg):\n",
        "    fromaddr = 'sys.gaara@gmail.com'\n",
        "    toaddrs = 'sys.avm@gmail.com'\n",
        "    message = 'Subject: %s\\n\\n Php price is now %s AED' %(subject, msg)\n",
        "\n",
        "    # Credentials (if needed)\n",
        "    username = 'sys.gaara@gmail.com'\n",
        "    password = 'nrtklvkmpzysbfkg'\n",
        "    \n",
        "    # The actual mail sent\n",
        "    server = smtplib.SMTP('smtp.gmail.com:587')\n",
        "    server.starttls()\n",
        "    \n",
        "    try:\n",
        "      server.login(username,password)\n",
        "      server.sendmail(fromaddr, toaddrs, message)\n",
        "      server.quit()\n",
        "    \n",
        "    except smtplib.SMTPServerDisconnected:\n",
        "      print('Failed to connect to the server. Wrong user/password?')\n",
        "    \n",
        "    except smtplib.SMTPException as e:\n",
        "      print('SMTP error occurred: ' + str(e))\n",
        "    \n",
        "    else:\n",
        "      print('Email Sent')\n",
        "      \n"
      ],
      "execution_count": 107,
      "outputs": []
    },
    {
      "cell_type": "code",
      "metadata": {
        "colab": {
          "base_uri": "https://localhost:8080/",
          "height": 300
        },
        "id": "vhXcuJD7e4vK",
        "outputId": "d3562f19-1aa5-414b-ba72-12e696be503b"
      },
      "source": [
        "while True:\n",
        "  get_php_price()\n",
        "  print(cprice)\n",
        "  if cprice < pprice:\n",
        "    #send_email(cprice)\n",
        "    print('Price Down')\n",
        "\n",
        "  elif cprice > pprice:\n",
        "    #send_email(cprice)\n",
        "    print('Price Up')\n",
        "\n",
        "  else:\n",
        "    print('Same Price Detected')\n",
        "  \n",
        "  pprice = cprice\n",
        "  time.sleep(10)\n"
      ],
      "execution_count": 122,
      "outputs": [
        {
          "output_type": "stream",
          "text": [
            "13.18\n",
            "Price Up\n",
            "13.18\n",
            "Same Price Detected\n",
            "13.18\n",
            "Same Price Detected\n"
          ],
          "name": "stdout"
        },
        {
          "output_type": "error",
          "ename": "KeyboardInterrupt",
          "evalue": "ignored",
          "traceback": [
            "\u001b[0;31m---------------------------------------------------------------------------\u001b[0m",
            "\u001b[0;31mKeyboardInterrupt\u001b[0m                         Traceback (most recent call last)",
            "\u001b[0;32m<ipython-input-122-eb42ce17e3bb>\u001b[0m in \u001b[0;36m<module>\u001b[0;34m()\u001b[0m\n\u001b[1;32m     14\u001b[0m \u001b[0;34m\u001b[0m\u001b[0m\n\u001b[1;32m     15\u001b[0m   \u001b[0mpprice\u001b[0m \u001b[0;34m=\u001b[0m \u001b[0mcprice\u001b[0m\u001b[0;34m\u001b[0m\u001b[0;34m\u001b[0m\u001b[0m\n\u001b[0;32m---> 16\u001b[0;31m   \u001b[0mtime\u001b[0m\u001b[0;34m.\u001b[0m\u001b[0msleep\u001b[0m\u001b[0;34m(\u001b[0m\u001b[0;36m10\u001b[0m\u001b[0;34m)\u001b[0m\u001b[0;34m\u001b[0m\u001b[0;34m\u001b[0m\u001b[0m\n\u001b[0m",
            "\u001b[0;31mKeyboardInterrupt\u001b[0m: "
          ]
        }
      ]
    },
    {
      "cell_type": "code",
      "metadata": {
        "id": "lxk4DaEGtD6t"
      },
      "source": [
        ""
      ],
      "execution_count": null,
      "outputs": []
    }
  ]
}