{
  "nbformat": 4,
  "nbformat_minor": 0,
  "metadata": {
    "colab": {
      "name": "Welcome To Colaboratory",
      "provenance": [],
      "collapsed_sections": []
    },
    "kernelspec": {
      "display_name": "Python 3",
      "name": "python3"
    }
  },
  "cells": [
    {
      "cell_type": "code",
      "metadata": {
        "id": "Ppq6vHdAT2Qo",
        "outputId": "a37b95b3-5c69-4395-ff07-bdfe3886580b",
        "colab": {
          "base_uri": "https://localhost:8080/"
        }
      },
      "source": [
        "import requests, time, json, pandas as pd\n",
        "from pandas import DataFrame\n",
        "\n",
        "\n",
        "\n",
        "api_key = '27587d4cc9c04f15ba08d813878a0e63'\n",
        "per_day = 5 # 391 #do not change. added 1 for 1 minute closing of the previous day. 390 minutes per day.\n",
        "days = 1\n",
        "count = per_day*days\n",
        "mySymbol = 'AAPL'\n",
        "# mySym = ['ABTZY','ALGGY','AYALY','AYYLF','BDOUF','BDOUY','BGNX','BOGMF','BPHLF','BPHLY','CEBUF','CEBUY','DLNDY','DMCHY','DMPLF','IBXS','JBFCF','JBFCY','MERVF','MGAWF','MGAWY','MPCFF','PETZF','PNENY','PRGLY','PSVNF','PXMFF','RBNTF','SFWJ','SMGBF','TTSI','ZNXT']\n",
        "results = []\n",
        "mySym = ['AAPL', 'GOOG', 'TSLA', 'MSFT', 'PEP']\n",
        "myUrl = 'https://api.twelvedata.com/time_series?symbol={}&interval=1min&outputsize={}&apikey={}'\n",
        "\n",
        "def run_tasks():\n",
        "    for symbol in mySym:\n",
        "        response = requests.get(myUrl.format(symbol, count, api_key))\n",
        "        results.append(response.json())\n",
        "        df = DataFrame(response)\n",
        "        print(df)\n",
        "\n",
        "print(\"Timer started...\")\n",
        "start = time.time()\n",
        "run_tasks()\n",
        "end = time.time()\n",
        "total_time = end - start\n"
      ],
      "execution_count": 11,
      "outputs": [
        {
          "output_type": "stream",
          "text": [
            "Timer started...\n",
            "                                                   0\n",
            "0  b'{\"meta\":{\"symbol\":\"AAPL\",\"interval\":\"1min\",\"...\n",
            "1  b'ommon Stock\"},\"values\":[{\"datetime\":\"2021-06...\n",
            "2  b'4001\",\"volume\":\"1027325\"},{\"datetime\":\"2021-...\n",
            "3  b'.58000\",\"volume\":\"475551\"},{\"datetime\":\"2021...\n",
            "4  b'9.63010\",\"volume\":\"427109\"},{\"datetime\":\"202...\n",
            "5  b'29.62000\",\"volume\":\"296581\"},{\"datetime\":\"20...\n",
            "6   b'129.66000\",\"volume\":\"397311\"}],\"status\":\"ok\"}'\n",
            "                                                   0\n",
            "0  b'{\"meta\":{\"symbol\":\"GOOG\",\"interval\":\"1min\",\"...\n",
            "1  b'ommon Stock\"},\"values\":[{\"datetime\":\"2021-06...\n",
            "2  b'20.65991\",\"volume\":\"22886\"},{\"datetime\":\"202...\n",
            "3  b':\"2520.12988\",\"volume\":\"10671\"},{\"datetime\":...\n",
            "4  b'ose\":\"2521.73511\",\"volume\":\"7894\"},{\"datetim...\n",
            "5  b'\"close\":\"2521.84009\",\"volume\":\"9337\"},{\"date...\n",
            "6  b'2\",\"close\":\"2522.51001\",\"volume\":\"8225\"}],\"s...\n",
            "                                                   0\n",
            "0  b'{\"meta\":{\"symbol\":\"TSLA\",\"interval\":\"1min\",\"...\n",
            "1  b'ommon Stock\"},\"values\":[{\"datetime\":\"2021-06...\n",
            "2  b'5999\",\"volume\":\"177330\"},{\"datetime\":\"2021-0...\n",
            "3  b'09003\",\"volume\":\"67795\"},{\"datetime\":\"2021-0...\n",
            "4  b'95502\",\"volume\":\"67553\"},{\"datetime\":\"2021-0...\n",
            "5  b'03003\",\"volume\":\"58051\"},{\"datetime\":\"2021-0...\n",
            "6        b'33002\",\"volume\":\"91575\"}],\"status\":\"ok\"}'\n",
            "                                                   0\n",
            "0  b'{\"meta\":{\"symbol\":\"MSFT\",\"interval\":\"1min\",\"...\n",
            "1  b'ommon Stock\"},\"values\":[{\"datetime\":\"2021-06...\n",
            "2  b'1999\",\"volume\":\"374362\"},{\"datetime\":\"2021-0...\n",
            "3  b'17999\",\"volume\":\"135717\"},{\"datetime\":\"2021-...\n",
            "4  b'.20999\",\"volume\":\"152629\"},{\"datetime\":\"2021...\n",
            "5  b'8.07999\",\"volume\":\"123446\"},{\"datetime\":\"202...\n",
            "6    b'58.14841\",\"volume\":\"121006\"}],\"status\":\"ok\"}'\n",
            "                                                   0\n",
            "0  b'{\"meta\":{\"symbol\":\"PEP\",\"interval\":\"1min\",\"c...\n",
            "1  b'mmon Stock\"},\"values\":[{\"datetime\":\"2021-06-...\n",
            "2  b'000\",\"volume\":\"96101\"},{\"datetime\":\"2021-06-...\n",
            "3  b'991\",\"volume\":\"50178\"},{\"datetime\":\"2021-06-...\n",
            "4  b'501\",\"volume\":\"48201\"},{\"datetime\":\"2021-06-...\n",
            "5  b'000\",\"volume\":\"46932\"},{\"datetime\":\"2021-06-...\n",
            "6          b'500\",\"volume\":\"58211\"}],\"status\":\"ok\"}'\n"
          ],
          "name": "stdout"
        }
      ]
    },
    {
      "cell_type": "code",
      "metadata": {
        "id": "Si4827XuT3G5"
      },
      "source": [
        ""
      ],
      "execution_count": null,
      "outputs": []
    }
  ]
}