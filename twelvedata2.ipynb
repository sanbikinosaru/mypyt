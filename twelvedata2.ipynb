{
  "nbformat": 4,
  "nbformat_minor": 0,
  "metadata": {
    "colab": {
      "name": "Welcome To Colaboratory",
      "provenance": [],
      "collapsed_sections": []
    },
    "kernelspec": {
      "display_name": "Python 3",
      "name": "python3"
    }
  },
  "cells": [
    {
      "cell_type": "code",
      "metadata": {
        "colab": {
          "base_uri": "https://localhost:8080/"
        },
        "id": "Ppq6vHdAT2Qo",
        "outputId": "bc6a8016-cee1-4851-8816-6576d60654ae"
      },
      "source": [
        "import requests, time, json, pandas as pd\n",
        "from pandas import DataFrame\n",
        "\n",
        "api_key = '27587d4cc9c04f15ba08d813878a0e63'\n",
        "per_day = 1 # 391 #do not change. added 1 for 1 minute closing of the previous day. 390 minutes per day.\n",
        "days = 1\n",
        "count = per_day*days\n",
        "mySymbol = 'AYYLF'\n",
        "mySym = ['ABTZY','ALGGY','AYALY','AYYLF','BDOUF','BDOUY','BGNX','BOGMF','BPHLF','BPHLY','CEBUF','CEBUY','DLNDY','DMCHY','DMPLF','IBXS','JBFCF','JBFCY','MERVF','MGAWF','MGAWY','MPCFF','PETZF','PNENY','PRGLY','PSVNF','PXMFF','RBNTF','SFWJ','SMGBF','TTSI','ZNXT']\n",
        "# results = []\n",
        "myUrl = 'https://api.twelvedata.com/time_series?symbol={}&interval=1min&outputsize={}&apikey={}'\n",
        "\n",
        "def run_tasks():\n",
        "    for symbol in mySym:\n",
        "        response = requests.get(myUrl.format(symbol, count, api_key)).json()\n",
        "        if response :\n",
        "          print(response['code'])\n",
        "        \n",
        "        #print(response.status_code)\n",
        "        #  print(\"Errrrrrrrrrrrrrrrrrrrrrrrrrrrrrorrrrrr!!!!\")\n",
        "        #if response['code'] != 429:\n",
        "        #df = DataFrame(response['values'])\n",
        "        #print(myUrl.format(symbol, count, api_key))\n",
        "          # print(df)\n",
        "        \n",
        "print(\"Timer started...\")\n",
        "start = time.time()\n",
        "run_tasks()\n",
        "end = time.time()\n",
        "total_time = end - start\n",
        "print(\"It took {} seconds to make this API calls\".format(total_time))"
      ],
      "execution_count": 45,
      "outputs": [
        {
          "output_type": "stream",
          "text": [
            "Timer started...\n",
            "429\n",
            "429\n",
            "429\n",
            "429\n",
            "429\n",
            "429\n",
            "429\n",
            "429\n",
            "429\n",
            "429\n",
            "429\n",
            "429\n",
            "429\n",
            "429\n",
            "429\n",
            "429\n",
            "429\n",
            "429\n",
            "429\n",
            "429\n",
            "429\n",
            "429\n",
            "429\n",
            "429\n",
            "429\n",
            "429\n",
            "429\n",
            "429\n",
            "429\n",
            "429\n",
            "429\n",
            "429\n",
            "It took 6.93497109413147 seconds to make this API calls\n"
          ],
          "name": "stdout"
        }
      ]
    },
    {
      "cell_type": "code",
      "metadata": {
        "colab": {
          "base_uri": "https://localhost:8080/"
        },
        "id": "Si4827XuT3G5",
        "outputId": "ccf9e45a-4a17-4cc8-97c2-0d0db93b375d"
      },
      "source": [
        "import requests\n",
        "  \n",
        "# Making a get request\n",
        "response = requests.get(myUrl.format('AAPL', count, api_key))\n",
        "  \n",
        "# print response\n",
        "print(response)\n",
        "  \n",
        "# print request status_code\n",
        "print(response.status_code)"
      ],
      "execution_count": 23,
      "outputs": [
        {
          "output_type": "stream",
          "text": [
            "<Response [200]>\n",
            "200\n"
          ],
          "name": "stdout"
        }
      ]
    },
    {
      "cell_type": "code",
      "metadata": {
        "id": "094RjP_PiiSA"
      },
      "source": [
        ""
      ],
      "execution_count": null,
      "outputs": []
    }
  ]
}