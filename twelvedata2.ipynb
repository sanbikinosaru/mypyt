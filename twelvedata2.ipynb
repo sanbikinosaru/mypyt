{
  "nbformat": 4,
  "nbformat_minor": 0,
  "metadata": {
    "colab": {
      "name": "Welcome To Colaboratory",
      "provenance": [],
      "collapsed_sections": []
    },
    "kernelspec": {
      "display_name": "Python 3",
      "name": "python3"
    }
  },
  "cells": [
    {
      "cell_type": "code",
      "metadata": {
        "colab": {
          "base_uri": "https://localhost:8080/"
        },
        "id": "Ppq6vHdAT2Qo",
        "outputId": "cd26d16a-3a13-44e7-896f-bdfbeccd7a28"
      },
      "source": [
        "import requests, time, json, pandas as pd\n",
        "from pandas import DataFrame\n",
        "\n",
        "\n",
        "\n",
        "api_key = '27587d4cc9c04f15ba08d813878a0e63'\n",
        "per_day = 5 # 391 #do not change. added 1 for 1 minute closing of the previous day. 390 minutes per day.\n",
        "days = 1\n",
        "count = per_day*days\n",
        "mySymbol = 'AAPL'\n",
        "# mySym = ['ABTZY','ALGGY','AYALY','AYYLF','BDOUF','BDOUY','BGNX','BOGMF','BPHLF','BPHLY','CEBUF','CEBUY','DLNDY','DMCHY','DMPLF','IBXS','JBFCF','JBFCY','MERVF','MGAWF','MGAWY','MPCFF','PETZF','PNENY','PRGLY','PSVNF','PXMFF','RBNTF','SFWJ','SMGBF','TTSI','ZNXT']\n",
        "results = []\n",
        "mySym = ['AAPL', 'GOOG', 'TSLA', 'MSFT', 'PEP']\n",
        "myUrl = 'https://api.twelvedata.com/time_series?symbol={}&interval=1min&outputsize={}&apikey={}'\n",
        "\n",
        "def run_tasks():\n",
        "    for symbol in mySym:\n",
        "        response = requests.get(myUrl.format(symbol, count, api_key)).json()\n",
        "        df = DataFrame(response['values'])\n",
        "        print(df)\n",
        "        \n",
        "print(\"Timer started...\")\n",
        "start = time.time()\n",
        "run_tasks()\n",
        "end = time.time()\n",
        "total_time = end - start\n",
        "print(\"It took {} seconds to make this API calls\".format(total_time))"
      ],
      "execution_count": 12,
      "outputs": [
        {
          "output_type": "stream",
          "text": [
            "Timer started...\n",
            "              datetime       open       high        low      close   volume\n",
            "0  2021-06-15 15:59:00  129.58000  129.83000  129.53999  129.74001  1027325\n",
            "1  2021-06-15 15:58:00  129.63000  129.67000  129.56000  129.58000   475551\n",
            "2  2021-06-15 15:57:00  129.62170  129.69501  129.61000  129.63010   427109\n",
            "3  2021-06-15 15:56:00  129.66000  129.68761  129.61000  129.62000   296581\n",
            "4  2021-06-15 15:55:00  129.63000  129.70500  129.60001  129.66000   397311\n",
            "              datetime        open        high         low       close volume\n",
            "0  2021-06-15 15:59:00  2520.18994  2521.55005  2518.72998  2520.65991  22886\n",
            "1  2021-06-15 15:58:00  2522.08008  2522.08008  2520.12988  2520.12988  10671\n",
            "2  2021-06-15 15:57:00  2521.97998  2522.66992  2521.45996  2521.73511   7894\n",
            "3  2021-06-15 15:56:00  2522.52002  2522.87988  2521.31006  2521.84009   9337\n",
            "4  2021-06-15 15:55:00  2521.52002  2523.36011  2521.52002  2522.51001   8225\n",
            "              datetime       open       high        low      close  volume\n",
            "0  2021-06-15 15:59:00  599.03998  599.46997  598.33002  599.35999  177330\n",
            "1  2021-06-15 15:58:00  598.90997  599.16998  598.81000  599.09003   67795\n",
            "2  2021-06-15 15:57:00  599.03003  599.37000  598.91998  598.95502   67553\n",
            "3  2021-06-15 15:56:00  599.27002  599.63000  598.96997  599.03003   58051\n",
            "4  2021-06-15 15:55:00  599.15997  600.09998  599.15997  599.33002   91575\n",
            "              datetime       open       high        low      close  volume\n",
            "0  2021-06-15 15:59:00  258.17001  258.66000  258.14999  258.51999  374362\n",
            "1  2021-06-15 15:58:00  258.20999  258.32001  258.07999  258.17999  135717\n",
            "2  2021-06-15 15:57:00  258.07999  258.29001  258.07501  258.20999  152629\n",
            "3  2021-06-15 15:56:00  258.14001  258.25000  258.06000  258.07999  123446\n",
            "4  2021-06-15 15:55:00  258.09000  258.23001  257.98001  258.14841  121006\n",
            "              datetime       open       high        low      close volume\n",
            "0  2021-06-15 15:59:00  148.55499  148.67999  148.52000  148.61000  96101\n",
            "1  2021-06-15 15:58:00  148.58000  148.59000  148.50999  148.55991  50178\n",
            "2  2021-06-15 15:57:00  148.51500  148.60001  148.50999  148.58501  48201\n",
            "3  2021-06-15 15:56:00  148.52000  148.58000  148.52000  148.52000  46932\n",
            "4  2021-06-15 15:55:00  148.50999  148.53999  148.50500  148.53500  58211\n"
          ],
          "name": "stdout"
        }
      ]
    },
    {
      "cell_type": "code",
      "metadata": {
        "id": "Si4827XuT3G5"
      },
      "source": [
        ""
      ],
      "execution_count": null,
      "outputs": []
    }
  ]
}