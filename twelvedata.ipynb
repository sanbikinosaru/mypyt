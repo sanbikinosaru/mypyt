{
  "nbformat": 4,
  "nbformat_minor": 0,
  "metadata": {
    "colab": {
      "name": "Welcome To Colaboratory",
      "provenance": [],
      "collapsed_sections": []
    },
    "kernelspec": {
      "display_name": "Python 3",
      "name": "python3"
    }
  },
  "cells": [
    {
      "cell_type": "code",
      "metadata": {
        "id": "ioywef1fucMo"
      },
      "source": [
        "import requests, time, json, pandas as pd\n",
        "from pandas import DataFrame\n",
        "\n",
        "api_key = '27587d4cc9c04f15ba08d813878a0e63'\n",
        "per_day = 391 #do not change. added 1 for 1 minute closing of the previous day. 390 minutes per day.\n",
        "days = 1\n",
        "count = per_day*days\n",
        "myUrl = 'https://api.twelvedata.com/time_series?symbol=AAPL&interval=1min&outputsize={}&apikey={}'.format(count, api_key)\n",
        "\n",
        "print(\"Timer started...\")\n",
        "\n",
        "start = time.time()\n",
        "allStocks = requests.get(myUrl).json()\n",
        "df = DataFrame(allStocks['values'])\n",
        "print(df)\n",
        "end = time.time()\n",
        "total_time = end - start\n",
        "print(\"It took {} seconds to make this API calls\".format(total_time))\n",
        "\n"
      ],
      "execution_count": null,
      "outputs": []
    }
  ]
}