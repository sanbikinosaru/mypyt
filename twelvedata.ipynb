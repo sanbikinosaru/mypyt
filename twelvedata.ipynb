{
  "nbformat": 4,
  "nbformat_minor": 0,
  "metadata": {
    "colab": {
      "name": "Welcome To Colaboratory",
      "provenance": [],
      "collapsed_sections": []
    },
    "kernelspec": {
      "display_name": "Python 3",
      "name": "python3"
    }
  },
  "cells": [
    {
      "cell_type": "code",
      "metadata": {
        "colab": {
          "base_uri": "https://localhost:8080/"
        },
        "id": "ioywef1fucMo",
        "outputId": "d7d6cf59-a3f5-444a-968c-c0918dd4b244"
      },
      "source": [
        "import requests, time, json, pandas as pd\n",
        "from pandas import DataFrame\n",
        "\n",
        "api_key = '27587d4cc9c04f15ba08d813878a0e63'\n",
        "per_day = 390\n",
        "days = 1\n",
        "count = per_day*days\n",
        "myUrl = 'https://api.twelvedata.com/time_series?symbol=AAPL&interval=1min&outputsize={}&apikey={}'.format(count, api_key)\n",
        "\n",
        "print(\"Timer started...\")\n",
        "\n",
        "start = time.time()\n",
        "allStocks = requests.get(myUrl).json()\n",
        "df = DataFrame(allStocks['values'])\n",
        "print(df)\n",
        "end = time.time()\n",
        "total_time = end - start\n",
        "print(\"It took {} seconds to make this API calls\".format(total_time))\n",
        "\n"
      ],
      "execution_count": 40,
      "outputs": [
        {
          "output_type": "stream",
          "text": [
            "Timer started...\n",
            "                datetime       open       high        low      close   volume\n",
            "0    2021-06-15 15:59:00  129.58000  129.83000  129.53999  129.74001  1027325\n",
            "1    2021-06-15 15:58:00  129.63000  129.67000  129.56000  129.58000   475551\n",
            "..                   ...        ...        ...        ...        ...      ...\n",
            "388  2021-06-15 09:31:00  130.00000  130.03000  129.66000  129.66090   493030\n",
            "389  2021-06-15 09:30:00  129.94501  130.20000  129.92000  130.03000  2612420\n",
            "\n",
            "[390 rows x 6 columns]\n",
            "It took 1.0004665851593018 seconds to make API calls\n"
          ],
          "name": "stdout"
        }
      ]
    },
    {
      "cell_type": "code",
      "metadata": {
        "id": "nyCbIy0IwE0h"
      },
      "source": [
        ""
      ],
      "execution_count": null,
      "outputs": []
    }
  ]
}