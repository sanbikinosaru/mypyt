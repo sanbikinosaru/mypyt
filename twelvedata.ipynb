{
  "nbformat": 4,
  "nbformat_minor": 0,
  "metadata": {
    "colab": {
      "name": "Welcome To Colaboratory",
      "provenance": [],
      "collapsed_sections": []
    },
    "kernelspec": {
      "display_name": "Python 3",
      "name": "python3"
    }
  },
  "cells": [
    {
      "cell_type": "code",
      "metadata": {
        "colab": {
          "base_uri": "https://localhost:8080/"
        },
        "id": "ioywef1fucMo",
        "outputId": "d9ff6378-8a7f-4049-d33b-e543f8b2a5bd"
      },
      "source": [
        "import requests, time, json, pandas as pd\n",
        "from pandas import DataFrame\n",
        "\n",
        "\n",
        "\n",
        "api_key = '27587d4cc9c04f15ba08d813878a0e63'\n",
        "per_day = 391 #do not change. added 1 for 1 minute closing of the previous day. 390 minutes per day.\n",
        "days = 1\n",
        "count = per_day*days\n",
        "myUrl = 'https://api.twelvedata.com/time_series?symbol=AAPL&interval=1min&outputsize={}&apikey={}'.format(count, api_key)\n",
        "\n",
        "print(\"Timer started...\")\n",
        "start = time.time()\n",
        "\n",
        "allStocks = requests.get(myUrl).json()\n",
        "df = DataFrame(allStocks['values'])\n",
        "print(df)\n",
        "end = time.time()\n",
        "total_time = end - start\n",
        "print(\"It took {} seconds to make this API calls\".format(total_time))\n",
        "\n"
      ],
      "execution_count": 4,
      "outputs": [
        {
          "output_type": "stream",
          "text": [
            "Timer started...\n",
            "                datetime       open       high        low      close   volume\n",
            "0    2021-06-15 15:59:00  129.58000  129.83000  129.53999  129.74001  1027325\n",
            "1    2021-06-15 15:58:00  129.63000  129.67000  129.56000  129.58000   475551\n",
            "2    2021-06-15 15:57:00  129.62170  129.69501  129.61000  129.63010   427109\n",
            "3    2021-06-15 15:56:00  129.66000  129.68761  129.61000  129.62000   296581\n",
            "4    2021-06-15 15:55:00  129.63000  129.70500  129.60001  129.66000   397311\n",
            "..                   ...        ...        ...        ...        ...      ...\n",
            "386  2021-06-15 09:33:00  129.45500  129.59500  129.42000  129.44000   439839\n",
            "387  2021-06-15 09:32:00  129.66499  129.67999  129.45500  129.45500   702200\n",
            "388  2021-06-15 09:31:00  130.00000  130.03000  129.66000  129.66090   493030\n",
            "389  2021-06-15 09:30:00  129.94501  130.20000  129.92000  130.03000  2612420\n",
            "390  2021-06-14 15:59:00  130.34720  130.49001  130.34000  130.49001  1254384\n",
            "\n",
            "[391 rows x 6 columns]\n",
            "It took 0.4384725093841553 seconds to make this API calls\n"
          ],
          "name": "stdout"
        }
      ]
    },
    {
      "cell_type": "code",
      "metadata": {
        "id": "nNTnBCN-AUn7"
      },
      "source": [
        "import requests, json\n",
        "import pandas as pd\n",
        "\n",
        "url = 'https://api.twelvedata.com/stocks?'\n",
        "\n",
        "r = requests.get(url)\n",
        "df = r.json()\n",
        "dfa = DataFrame(df['data'])\n",
        "dfa.to_csv('stocks.csv')"
      ],
      "execution_count": 27,
      "outputs": []
    },
    {
      "cell_type": "code",
      "metadata": {
        "id": "nqQGgWPDC66_"
      },
      "source": [
        ""
      ],
      "execution_count": null,
      "outputs": []
    }
  ]
}